{
 "cells": [
  {
   "cell_type": "code",
   "execution_count": 1,
   "metadata": {
    "collapsed": false
   },
   "outputs": [],
   "source": [
    "import pandas as pd\n",
    "import numpy as np\n",
    "from pandas.api.types import  is_string_dtype,is_numeric_dtype\n",
    "import matplotlib.pyplot as plt\n",
    "from  sklearn.linear_model import LogisticRegression"
   ]
  },
  {
   "cell_type": "code",
   "execution_count": 2,
   "metadata": {
    "collapsed": true
   },
   "outputs": [],
   "source": [
    "# Reading the CSV\n",
    "Working_df = pd.read_csv('bank-additional-full.csv',sep=';')"
   ]
  },
  {
   "cell_type": "code",
   "execution_count": null,
   "metadata": {
    "collapsed": false
   },
   "outputs": [],
   "source": [
    "Working_df.shape"
   ]
  },
  {
   "cell_type": "code",
   "execution_count": null,
   "metadata": {
    "collapsed": false
   },
   "outputs": [],
   "source": [
    "Working_df.head()"
   ]
  },
  {
   "cell_type": "code",
   "execution_count": null,
   "metadata": {
    "collapsed": false
   },
   "outputs": [],
   "source": [
    "Working_df.columns"
   ]
  },
  {
   "cell_type": "code",
   "execution_count": 3,
   "metadata": {
    "collapsed": true
   },
   "outputs": [],
   "source": [
    "#removing duration for modelling purposes\n",
    "Working_df_new = Working_df.drop('duration',axis =1)"
   ]
  },
  {
   "cell_type": "code",
   "execution_count": 4,
   "metadata": {
    "collapsed": false
   },
   "outputs": [],
   "source": [
    "#Assuming unknowns to be negative in the below columns and mapping accordingly\n",
    "#default,housing,loan,poutcome\n",
    "Working_df_new.loc[Working_df_new.default =='unknown','default']='no'\n",
    "Working_df_new.loc[Working_df_new.housing =='unknown','housing']='no'\n",
    "Working_df_new.loc[Working_df_new.loan =='unknown','loan']='no'\n",
    "Working_df_new.loc[Working_df_new.poutcome =='nonexistent','poutcome']='failure'"
   ]
  },
  {
   "cell_type": "code",
   "execution_count": 5,
   "metadata": {
    "collapsed": false
   },
   "outputs": [],
   "source": [
    "#Classifying as employed and unemployed with good income levels for term deposit\n",
    "#Blue collar and housemaid classified as unemployed\n",
    "employed = ['admin','entrepreneur','management','retired','self-employed','services','technician','housemaid','blue-collar']\n",
    "unemployed =['student','technician','umemployed','unknown']\n",
    "Working_df_new.loc[Working_df_new.job.isin(employed),'job']=1\n",
    "Working_df_new.loc[Working_df_new.job.isin(unemployed),'job']=0"
   ]
  },
  {
   "cell_type": "code",
   "execution_count": 6,
   "metadata": {
    "collapsed": true
   },
   "outputs": [],
   "source": [
    "#Classifying as married and not married (as per current status)\n",
    "Working_df_new.loc[Working_df_new.marital == 'married','marital']=1\n",
    "Working_df_new.loc[Working_df_new.marital != 'married','marital']=0"
   ]
  },
  {
   "cell_type": "code",
   "execution_count": 7,
   "metadata": {
    "collapsed": true
   },
   "outputs": [],
   "source": [
    "#Converting categorical variables to numbers\n",
    "def conv_to_cats(df):\n",
    "    for n,c in df.items():\n",
    "        if is_string_dtype(c): df[n] = c.astype('category').cat.as_ordered()"
   ]
  },
  {
   "cell_type": "code",
   "execution_count": 8,
   "metadata": {
    "collapsed": false
   },
   "outputs": [
    {
     "name": "stdout",
     "output_type": "stream",
     "text": [
      "Index(['basic.4y', 'basic.6y', 'basic.9y', 'high.school', 'illiterate',\n",
      "       'professional.course', 'university.degree', 'unknown'],\n",
      "      dtype='object')\n"
     ]
    }
   ],
   "source": [
    "conv_to_cats(Working_df_new)\n",
    "print(Working_df_new.education.cat.categories)\n",
    "#Setting ordinality for education\n",
    "Working_df_new.education.cat.set_categories(['professional.course','university.degree','high.school','basic.9y','basic.6y','basic.4y','illiterate','unknown'],ordered = True,inplace = True)\n",
    "Working_df_new.education = Working_df_new.education.cat.codes"
   ]
  },
  {
   "cell_type": "code",
   "execution_count": 9,
   "metadata": {
    "collapsed": false
   },
   "outputs": [
    {
     "data": {
      "text/plain": [
       "min                     pdays    0\n",
       "dtype: int64\n",
       "max                    pdays    27\n",
       "dtype: int64\n",
       "mean           pdays    6.014521\n",
       "dtype: float64\n",
       "25th    pdays    3.0\n",
       "Name: 0.25, dtype: float64\n",
       "75th    pdays    7.0\n",
       "Name: 0.75, dtype: float64\n",
       "dtype: object"
      ]
     },
     "execution_count": 9,
     "metadata": {},
     "output_type": "execute_result"
    }
   ],
   "source": [
    "#Checking the Pdays values\n",
    "def minMax(x):\n",
    "    return pd.Series(index=['min','max','mean','25th','75th'],data=[x.min(),x.max(),x.mean(),x.quantile(0.25),x.quantile(0.75)])\n",
    "minMax(Working_df_new.query(\"pdays <999\")[['pdays']])"
   ]
  },
  {
   "cell_type": "code",
   "execution_count": 10,
   "metadata": {
    "collapsed": false
   },
   "outputs": [],
   "source": [
    "#Setting a level 1 - pdays <=3\n",
    "#          level 2 - 3>pdays <=7\n",
    "#          level 3 - 7 < pdays <27\n",
    "#           999    - as is\n",
    "Working_df_new.loc[:,'pdays_ord'] = np.where(Working_df_new.pdays<= 3 ,1,\\\n",
    "                        np.where(((Working_df_new.pdays >3)&(Working_df_new.pdays<=7)),2,\\\n",
    "                                 np.where (Working_df_new.pdays != 999,3,Working_df_new.pdays)))\n",
    "Working_df_new.loc[:,'pdays_bool']= np.where(Working_df_new.pdays == 999 ,0,1)\n",
    "#Dropping the pdays column\n",
    "Working_df_new.drop('pdays',axis = 1,inplace=True)"
   ]
  },
  {
   "cell_type": "code",
   "execution_count": 11,
   "metadata": {
    "collapsed": false
   },
   "outputs": [],
   "source": [
    "#Splitting into numeric and non numeric data types\n",
    "quantitative = [f for f in Working_df_new.columns if is_numeric_dtype(Working_df_new[f])]\n",
    "qualitative = Working_df_new.columns.difference(quantitative)\n",
    "# dropping the y from the independent variable list and mapping it separately\n",
    "qualitative = qualitative.drop('y')\n",
    "Working_df_new.y.replace(['yes', 'no'], [1, 0], inplace=True)"
   ]
  },
  {
   "cell_type": "code",
   "execution_count": 12,
   "metadata": {
    "collapsed": true
   },
   "outputs": [],
   "source": [
    "#Replace Categorical variable with their codes\n",
    "def numericalize(df,col):\n",
    "    if not is_numeric_dtype(df[col]):\n",
    "        df[col+'_num']= df[col].cat.codes+1"
   ]
  },
  {
   "cell_type": "code",
   "execution_count": 13,
   "metadata": {
    "collapsed": true
   },
   "outputs": [],
   "source": [
    "for i in qualitative:\n",
    "    numericalize(Working_df_new,i)\n",
    "    #dropping the categorical column after replacing\n",
    "    Working_df_new.drop(i,axis =1,inplace=True)"
   ]
  },
  {
   "cell_type": "code",
   "execution_count": 14,
   "metadata": {
    "collapsed": false
   },
   "outputs": [
    {
     "data": {
      "text/plain": [
       "Index(['age', 'marital', 'education', 'campaign', 'previous', 'emp.var.rate',\n",
       "       'cons.price.idx', 'cons.conf.idx', 'euribor3m', 'nr.employed', 'y',\n",
       "       'pdays_ord', 'pdays_bool', 'contact_num', 'day_of_week_num',\n",
       "       'default_num', 'housing_num', 'job_num', 'loan_num', 'month_num',\n",
       "       'poutcome_num'],\n",
       "      dtype='object')"
      ]
     },
     "execution_count": 14,
     "metadata": {},
     "output_type": "execute_result"
    }
   ],
   "source": [
    "Working_df_new.columns"
   ]
  },
  {
   "cell_type": "code",
   "execution_count": 15,
   "metadata": {
    "collapsed": false
   },
   "outputs": [],
   "source": [
    "y = Working_df_new['y']\n",
    "Working_df_new.drop('y',axis=1,inplace=True)\n"
   ]
  },
  {
   "cell_type": "code",
   "execution_count": 17,
   "metadata": {
    "collapsed": false
   },
   "outputs": [
    {
     "data": {
      "text/plain": [
       "(41188, 20)"
      ]
     },
     "execution_count": 17,
     "metadata": {},
     "output_type": "execute_result"
    }
   ],
   "source": [
    "Working_df_new.shape"
   ]
  },
  {
   "cell_type": "code",
   "execution_count": 22,
   "metadata": {
    "collapsed": true
   },
   "outputs": [],
   "source": [
    "#Splitting into train and validation\n",
    "def split_vals(a,n): return a[:n].copy(), a[n:].copy()\n",
    "\n",
    "# n_valid = 10297  # 25% of the dataset\n",
    "n_valid = 20594  # 50% of the dataset\n",
    "n_trn = len(Working_df_new)-n_valid\n",
    "raw_train, raw_valid = split_vals(Working_df_new, n_trn)\n",
    "X_train, X_valid = split_vals(Working_df_new, n_trn)\n",
    "y_train, y_valid = split_vals(y, n_trn)"
   ]
  },
  {
   "cell_type": "code",
   "execution_count": 23,
   "metadata": {
    "collapsed": false
   },
   "outputs": [
    {
     "data": {
      "text/plain": [
       "LogisticRegression(C=1.0, class_weight=None, dual=False, fit_intercept=True,\n",
       "          intercept_scaling=1, max_iter=100, multi_class='ovr', n_jobs=1,\n",
       "          penalty='l2', random_state=None, solver='liblinear', tol=0.0001,\n",
       "          verbose=0, warm_start=False)"
      ]
     },
     "execution_count": 23,
     "metadata": {},
     "output_type": "execute_result"
    }
   ],
   "source": [
    "clf = LogisticRegression()\n",
    "#Deciding columns to be passed into the model\n",
    "clf.fit(X_train,y_train)"
   ]
  },
  {
   "cell_type": "code",
   "execution_count": 24,
   "metadata": {
    "collapsed": false
   },
   "outputs": [
    {
     "data": {
      "text/plain": [
       "0.9532388074196367"
      ]
     },
     "execution_count": 24,
     "metadata": {},
     "output_type": "execute_result"
    }
   ],
   "source": [
    "clf.score(X_train,y_train)"
   ]
  },
  {
   "cell_type": "code",
   "execution_count": 25,
   "metadata": {
    "collapsed": false
   },
   "outputs": [
    {
     "data": {
      "text/plain": [
       "0.8417985821112945"
      ]
     },
     "execution_count": 25,
     "metadata": {},
     "output_type": "execute_result"
    }
   ],
   "source": [
    "clf.score(X_valid,y_valid)"
   ]
  },
  {
   "cell_type": "code",
   "execution_count": 26,
   "metadata": {
    "collapsed": false
   },
   "outputs": [
    {
     "data": {
      "text/plain": [
       "array([[-7.52466337e-03,  0.00000000e+00, -1.70143507e-02,\n",
       "        -3.28250780e-02,  0.00000000e+00,  2.70146574e-03,\n",
       "        -1.93357049e-02,  6.35818231e-03,  1.04121526e-03,\n",
       "         1.21540144e-02, -6.36216503e-02,  0.00000000e+00,\n",
       "        -3.06461037e-02,  3.69180754e-03, -6.36853356e-05,\n",
       "        -1.54040903e-03, -5.11742971e-03,  2.31560399e-03,\n",
       "        -6.40382734e-02, -6.36853356e-05]])"
      ]
     },
     "execution_count": 26,
     "metadata": {},
     "output_type": "execute_result"
    }
   ],
   "source": [
    "clf.coef_"
   ]
  },
  {
   "cell_type": "code",
   "execution_count": null,
   "metadata": {
    "collapsed": false
   },
   "outputs": [],
   "source": [
    "X_train.columns"
   ]
  },
  {
   "cell_type": "code",
   "execution_count": null,
   "metadata": {
    "collapsed": false
   },
   "outputs": [],
   "source": [
    "print(list(zip(clf.coef_, X_train.columns)))"
   ]
  },
  {
   "cell_type": "code",
   "execution_count": null,
   "metadata": {
    "collapsed": false
   },
   "outputs": [],
   "source": [
    "coefficients = pd.DataFrame({\"Feature\":np.array(X_train.columns),\"Coefficients\":np.transpose(clf.coef_)})"
   ]
  },
  {
   "cell_type": "code",
   "execution_count": 27,
   "metadata": {
    "collapsed": false
   },
   "outputs": [
    {
     "data": {
      "text/plain": [
       "array([[-7.52466337e-03],\n",
       "       [ 0.00000000e+00],\n",
       "       [-1.70143507e-02],\n",
       "       [-3.28250780e-02],\n",
       "       [ 0.00000000e+00],\n",
       "       [ 2.70146574e-03],\n",
       "       [-1.93357049e-02],\n",
       "       [ 6.35818231e-03],\n",
       "       [ 1.04121526e-03],\n",
       "       [ 1.21540144e-02],\n",
       "       [-6.36216503e-02],\n",
       "       [ 0.00000000e+00],\n",
       "       [-3.06461037e-02],\n",
       "       [ 3.69180754e-03],\n",
       "       [-6.36853356e-05],\n",
       "       [-1.54040903e-03],\n",
       "       [-5.11742971e-03],\n",
       "       [ 2.31560399e-03],\n",
       "       [-6.40382734e-02],\n",
       "       [-6.36853356e-05]])"
      ]
     },
     "execution_count": 27,
     "metadata": {},
     "output_type": "execute_result"
    }
   ],
   "source": [
    "np.transpose(clf.coef_)"
   ]
  },
  {
   "cell_type": "code",
   "execution_count": 28,
   "metadata": {
    "collapsed": false
   },
   "outputs": [],
   "source": [
    "feature_Array = np.ones(len(X_train))\n",
    "feature_Array =np.array(X_train.columns)"
   ]
  },
  {
   "cell_type": "code",
   "execution_count": 29,
   "metadata": {
    "collapsed": false
   },
   "outputs": [
    {
     "data": {
      "text/plain": [
       "array(['age', 'marital', 'education', 'campaign', 'previous',\n",
       "       'emp.var.rate', 'cons.price.idx', 'cons.conf.idx', 'euribor3m',\n",
       "       'nr.employed', 'pdays_ord', 'pdays_bool', 'contact_num',\n",
       "       'day_of_week_num', 'default_num', 'housing_num', 'job_num',\n",
       "       'loan_num', 'month_num', 'poutcome_num'], dtype=object)"
      ]
     },
     "execution_count": 29,
     "metadata": {},
     "output_type": "execute_result"
    }
   ],
   "source": [
    "feature_Array"
   ]
  },
  {
   "cell_type": "code",
   "execution_count": null,
   "metadata": {
    "collapsed": false
   },
   "outputs": [],
   "source": [
    "clf.sparsify()"
   ]
  },
  {
   "cell_type": "code",
   "execution_count": null,
   "metadata": {
    "collapsed": false
   },
   "outputs": [],
   "source": [
    "clf.intercept_"
   ]
  },
  {
   "cell_type": "code",
   "execution_count": null,
   "metadata": {
    "collapsed": true
   },
   "outputs": [],
   "source": []
  }
 ],
 "metadata": {
  "anaconda-cloud": {},
  "kernelspec": {
   "display_name": "Python [conda root]",
   "language": "python",
   "name": "conda-root-py"
  },
  "language_info": {
   "codemirror_mode": {
    "name": "ipython",
    "version": 3
   },
   "file_extension": ".py",
   "mimetype": "text/x-python",
   "name": "python",
   "nbconvert_exporter": "python",
   "pygments_lexer": "ipython3",
   "version": "3.5.2"
  }
 },
 "nbformat": 4,
 "nbformat_minor": 1
}
